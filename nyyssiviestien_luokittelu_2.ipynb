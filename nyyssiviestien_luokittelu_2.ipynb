{
 "cells": [
  {
   "cell_type": "code",
   "execution_count": null,
   "id": "fe36a3be",
   "metadata": {},
   "outputs": [],
   "source": [
    "#toinen uutisryhmäsetti luokiteltavaksi"
   ]
  },
  {
   "cell_type": "code",
   "execution_count": 1,
   "id": "7653c86f",
   "metadata": {},
   "outputs": [
    {
     "name": "stdout",
     "output_type": "stream",
     "text": [
      "Aikaa tässä meni: 4.81  s\n"
     ]
    }
   ],
   "source": [
    "from sklearn.datasets import fetch_20newsgroups\n",
    "from sklearn.metrics import classification_report, confusion_matrix, ConfusionMatrixDisplay\n",
    "from sklearn.feature_extraction.text import TfidfVectorizer\n",
    "from sklearn.linear_model import Perceptron\n",
    "import matplotlib.pyplot as plt\n",
    "\n",
    "#omaksi huviksi otetaan aikaa\n",
    "from time import time\n",
    "start_time = time()\n",
    "\n",
    "categories_2 = ['comp.graphics', 'comp.os.ms-windows.misc', 'comp.windows.x']\n",
    "\n",
    "#kategoriat\n",
    "ng_train = fetch_20newsgroups(subset='train', categories=categories_2,\n",
    "                              remove=('headers', 'footers', 'quotes'))\n",
    "ng_test = fetch_20newsgroups(subset='test', categories=categories_2,\n",
    "                             remove=('headers', 'footers', 'quotes'))\n",
    "target_names = ng_train.target_names \n",
    "\n",
    "#TF-IDF -vektorisointi\n",
    "vectorizer = TfidfVectorizer()\n",
    "\n",
    "#muunnetaan opetusaineisto fit_transform()-metodilla\n",
    "#muunnetaan myös testiaineisto transform()-metodilla\n",
    "X_train = vectorizer.fit_transform(ng_train.data)\n",
    "X_test = vectorizer.transform(ng_test.data)\n",
    "y_train, y_test = ng_train.target, ng_test.target\n",
    "\n",
    "#perceptroni saa nyt luvan olla samassa solussa\n",
    "pc = Perceptron(random_state=12501)\n",
    "pc.fit(X_train, y_train)\n",
    "\n",
    "y_score = pc.decision_function(X_train)\n",
    "y_pred = pc.predict(X_test)\n",
    "\n",
    "cr = classification_report(y_test, y_pred)\n",
    "cm = confusion_matrix(y_test, y_pred)\n",
    "\n",
    "print('Aikaa tässä meni: {:.2f}'.format(time() - start_time), ' s')\n"
   ]
  },
  {
   "cell_type": "code",
   "execution_count": 2,
   "id": "450f3b16",
   "metadata": {},
   "outputs": [
    {
     "data": {
      "text/plain": [
       "47529"
      ]
     },
     "execution_count": 2,
     "metadata": {},
     "output_type": "execute_result"
    }
   ],
   "source": [
    "len(vectorizer.get_feature_names_out())"
   ]
  },
  {
   "cell_type": "code",
   "execution_count": 3,
   "id": "a681a28d",
   "metadata": {},
   "outputs": [
    {
     "name": "stdout",
     "output_type": "stream",
     "text": [
      "Predict: [0 2 1 ... 0 1 1] and score: [[-1.31317703  1.42450383 -0.48142589]\n",
      " [ 0.27738174 -0.15273205 -0.65001481]\n",
      " [-0.06661599  0.56812816 -0.26782462]\n",
      " ...\n",
      " [ 0.76452045 -0.56600803 -0.32726262]\n",
      " [ 0.92918643 -0.71946757 -0.03652812]\n",
      " [ 0.29653175 -0.42565509 -0.79318505]]\n",
      "Perceptron average test accuracy: 0.732597623089983\n",
      "[[297  47  45]\n",
      " [ 73 292  29]\n",
      " [ 68  53 274]]\n",
      "              precision    recall  f1-score   support\n",
      "\n",
      "           0       0.68      0.76      0.72       389\n",
      "           1       0.74      0.74      0.74       394\n",
      "           2       0.79      0.69      0.74       395\n",
      "\n",
      "    accuracy                           0.73      1178\n",
      "   macro avg       0.74      0.73      0.73      1178\n",
      "weighted avg       0.74      0.73      0.73      1178\n",
      "\n"
     ]
    }
   ],
   "source": [
    "#tulosten analysointia\n",
    "\n",
    "print(f\"Predict: {y_pred} and score: {y_score}\")\n",
    "print(f'Perceptron average test accuracy: {pc.score(X_test, ng_test.target)}')\n",
    "print(confusion_matrix(ng_test.target, y_pred))  # verrataan toteutuneita arvoja ennusteisin\n",
    "print(classification_report(ng_test.target, y_pred))"
   ]
  },
  {
   "cell_type": "code",
   "execution_count": 4,
   "id": "eb8a8126",
   "metadata": {},
   "outputs": [
    {
     "data": {
      "image/png": "[encoded data removed]",
      "text/plain": [
       "<Figure size 432x288 with 2 Axes>"
      ]
     },
     "metadata": {
      "needs_background": "light"
     },
     "output_type": "display_data"
    }
   ],
   "source": [
    "#sekaannusmatriisin piirtäminen\n",
    "import seaborn as sns\n",
    "\n",
    "labels = [target_names[0], target_names[1], target_names[2]]\n",
    "ax = sns.heatmap(cm, annot=True, cmap='Blues', xticklabels=labels, yticklabels=labels)"
   ]
  },
  {
   "cell_type": "code",
   "execution_count": null,
   "id": "80a427d5",
   "metadata": {},
   "outputs": [],
   "source": []
  }
 ],
 "metadata": {
  "kernelspec": {
   "display_name": "Python 3 (ipykernel)",
   "language": "python",
   "name": "python3"
  },
  "language_info": {
   "codemirror_mode": {
    "name": "ipython",
    "version": 3
   },
   "file_extension": ".py",
   "mimetype": "text/x-python",
   "name": "python",
   "nbconvert_exporter": "python",
   "pygments_lexer": "ipython3",
   "version": "3.8.12"
  }
 },
 "nbformat": 4,
 "nbformat_minor": 5
}
