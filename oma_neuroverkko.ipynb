{
 "cells": [
  {
   "cell_type": "code",
   "execution_count": null,
   "id": "1d67eaed",
   "metadata": {},
   "outputs": [],
   "source": [
    "#oma neuroverkko pelkän numpyn avulla\n",
    "#SK 04/2022"
   ]
  },
  {
   "cell_type": "code",
   "execution_count": 8,
   "id": "af7f4cc5",
   "metadata": {},
   "outputs": [],
   "source": [
    "import numpy as np\n",
    "\n",
    "class NeuralNetwork:\n",
    "    #HUOM!!! instanssia luodessa täytyy ilmoittaa neuronien määrät: neural_network = NeuralNetwork(2,8)\n",
    "    \n",
    "    def __init__(self, input_neurons, hidden_neurons):\n",
    "        #output_neurons = 1\n",
    "        self.weights1 = np.random.rand(input_neurons, hidden_neurons)\n",
    "        self.weights2 = np.random.rand(hidden_neurons, 1) \n",
    "\n",
    "    #virhefunktio ja sen derivaatta\n",
    "    def loss_function(self, true, prediction):\n",
    "        return 0.5*(true - prediction)** 2\n",
    "\n",
    "    def loss_function_derivative(self, true, prediction):\n",
    "        return true - prediction\n",
    "    \n",
    "    #aktivaatiofunktiot ja niiden derivaatat\n",
    "    #näitä voi kirjoitella tähän enemmänkin ja vaihdella sitten\n",
    "    def sigmoid(self, x):\n",
    "        return 1/(1 + np.exp(-x))\n",
    "    \n",
    "    def sigmoid_derivative(self, x):\n",
    "        return x*(1 - x)\n",
    "    \n",
    "    def ReLu(self, x):\n",
    "        return np.maximum(0,x)\n",
    "    \n",
    "    def ReLu_derivative(self, x):\n",
    "        return 0 if x <=0 else 1\n",
    "    \n",
    "    #neuroverkon läpäisy eteenpäin\n",
    "    def forwardpropagation(self, X, y):\n",
    "        self.X = X\n",
    "        self.y = y\n",
    "        self.layer1 = self.sigmoid(np.dot(self.X, self.weights1))\n",
    "        self.output = self.sigmoid(np.dot(self.layer1, self.weights2))\n",
    "        self.loss = self.loss_function(self.y, self.output)\n",
    "\n",
    "    #vastavirta-algoritmi päivittää verkon painoja\n",
    "    def backpropagation(self, learning_rate):\n",
    "        output_error = self.loss_function_derivative(self.y, self.output)\n",
    "        output_delta = output_error * self.sigmoid_derivative(self.output)\n",
    "        \n",
    "        weights2_adjustment = np.dot(self.layer1.T, output_delta)\n",
    "        \n",
    "        layer1_error = np.dot(output_delta, self.weights2.T)\n",
    "        layer1_delta = layer1_error * self.sigmoid_derivative(self.layer1)\n",
    "        weights1_adjustment = np.dot(self.X.T, layer1_delta)\n",
    "\n",
    "        self.weights1 += learning_rate * weights1_adjustment\n",
    "        self.weights2 += learning_rate * weights2_adjustment\n",
    "        \n",
    "    #Tulevaisuudessa voisi tehdä vastavirralle vaihtoehtoisen algoritmin tähän\n",
    "    #voisi kokeilla kuinka toimii vaikkapa GMDH?"
   ]
  },
  {
   "cell_type": "code",
   "execution_count": 9,
   "id": "095f7e33",
   "metadata": {},
   "outputs": [],
   "source": [
    "def train_neural_network(network, train_X, train_y):\n",
    "    #varsinainen neuroverkon koulutus\n",
    "    #tässä toteutuksessa käytetään dynaamisesti säätyvää oppimisnopeutta\n",
    "    losses_array = []\n",
    "    epochs = 10000\n",
    "    learning_rate = 1.0 #dynaaminen oppimisnopeus\n",
    "    \n",
    "    for epoch in range(epochs):\n",
    "        batch_losses = []\n",
    "        # Käydään jokaisessa kierroksessa jokainen pari läpi\n",
    "        for X, y in zip(train_X, train_y):\n",
    "            network.forwardpropagation(np.array([X]), np.array([y]))\n",
    "            network.backpropagation(learning_rate)\n",
    "            learning_rate = learning_rate*(1/(epoch+1))\n",
    "            batch_losses.append(network.loss[0])\n",
    "        losses_array.append(np.average(batch_losses)) # lasketaan keskiarvo yhden kierroksen virhearvoista\n",
    "\n",
    "    return losses_array"
   ]
  },
  {
   "cell_type": "code",
   "execution_count": null,
   "id": "64b2a293",
   "metadata": {},
   "outputs": [],
   "source": []
  }
 ],
 "metadata": {
  "kernelspec": {
   "display_name": "Python 3 (ipykernel)",
   "language": "python",
   "name": "python3"
  },
  "language_info": {
   "codemirror_mode": {
    "name": "ipython",
    "version": 3
   },
   "file_extension": ".py",
   "mimetype": "text/x-python",
   "name": "python",
   "nbconvert_exporter": "python",
   "pygments_lexer": "ipython3",
   "version": "3.8.12"
  }
 },
 "nbformat": 4,
 "nbformat_minor": 5
}
