{
 "cells": [
  {
   "cell_type": "code",
   "execution_count": null,
   "id": "1d67eaed",
   "metadata": {},
   "outputs": [],
   "source": [
    "#oma neuroverkko pelkän numpyn avulla\n",
    "#SK 04/2022"
   ]
  },
  {
   "cell_type": "code",
   "execution_count": 1,
   "id": "af7f4cc5",
   "metadata": {},
   "outputs": [],
   "source": [
    "import numpy as np\n",
    "\n",
    "class NeuralNetwork:\n",
    "    #instanssia luodessa täytyy ilmoittaa neuronien määrät\n",
    "    \n",
    "    def __init__(self, input_neurons, hidden_neurons):\n",
    "        #output_neurons = 1\n",
    "        self.weights1 = np.random.rand(input_neurons, hidden_neurons)\n",
    "        self.weights2 = np.random.rand(hidden_neurons, 1) \n",
    "\n",
    "    #virhefunktio ja sen derivaatta\n",
    "    def loss_function(self, true, prediction):\n",
    "        return 0.5*(true - prediction)** 2\n",
    "\n",
    "    def loss_function_derivative(self, true, prediction):\n",
    "        return true - prediction\n",
    "    \n",
    "    #aktivaatiofunktiot ja niiden derivaatat\n",
    "    def sigmoid(self, x):\n",
    "        return 1/(1 + np.exp(-x))\n",
    "\n",
    "    def sigmoid_derivative(self, x):\n",
    "        return x*(1 - x)\n",
    "\n",
    "    #neuroverkon läpäisy eteenpäin\n",
    "    def forwardpropagation(self, X, y):\n",
    "        self.X = X\n",
    "        self.y = y\n",
    "        self.layer1 = self.sigmoid(np.dot(self.X, self.weights1))\n",
    "        self.output = self.sigmoid(np.dot(self.layer1, self.weights2))\n",
    "        self.loss = self.loss_function(self.y, self.output)\n",
    "\n",
    "    #vastavirta-algoritmi\n",
    "    def backpropagation(self, learning_rate):\n",
    "        output_error = self.loss_function_derivative(self.y, self.output)\n",
    "        output_delta = output_error*self.sigmoid_derivative(self.output)\n",
    "        \n",
    "        weights2_adjustment = np.dot(self.layer1.T, output_delta)\n",
    "        \n",
    "        layer1_error = np.dot(output_delta, self.weights2.T)\n",
    "        layer1_delta = layer1_error*self.sigmoid_derivative(self.layer1)\n",
    "        weights1_adjustment = np.dot(self.X.T, layer1_delta)\n",
    "\n",
    "        self.weights1 += learning_rate*weights1_adjustment\n",
    "        self.weights2 += learning_rate*weights2_adjustment"
   ]
  },
  {
   "cell_type": "code",
   "execution_count": 2,
   "id": "095f7e33",
   "metadata": {},
   "outputs": [],
   "source": [
    "def train_neural_network(network, train_X, train_y):\n",
    "    #neuroverkon koulutus\n",
    "    losses_array = []\n",
    "    epochs = 1000\n",
    "    for epoch in range(epochs):\n",
    "        batch_losses = []\n",
    "        for X, y in zip(train_X, train_y):\n",
    "            network.forwardpropagation(np.array([X]), np.array([y]))\n",
    "            network.backpropagation(learning_rate=0.01) #muuta learning ratea tarvittaessa\n",
    "            batch_losses.append(network.loss[0])\n",
    "        losses_array.append(np.average(batch_losses))\n",
    "    return losses_array"
   ]
  },
  {
   "cell_type": "code",
   "execution_count": 4,
   "id": "8ea868bb",
   "metadata": {},
   "outputs": [
    {
     "name": "stdout",
     "output_type": "stream",
     "text": [
      "Aikaa verkon treenaamisessa meni: 7.03  s\n"
     ]
    }
   ],
   "source": [
    "from sklearn.datasets import make_blobs\n",
    "def create_dots_and_labels():\n",
    "    #tällä saa tehtyä testidataa\n",
    "    dots, labels = make_blobs(n_samples=60, centers=2, cluster_std=6, center_box=(-20, 20), random_state=200)\n",
    "    colors = ['red' if label == 0 else 'blue' for label in labels]\n",
    "    return [dots, labels, colors]\n",
    "\n",
    "#koulutusdata\n",
    "data = create_dots_and_labels()\n",
    "train_X = data[0]\n",
    "train_y = data[1]\n",
    "\n",
    "#neuroverkon instanssi\n",
    "neural_network = NeuralNetwork(2,6)\n",
    "\n",
    "#ajanotto alkaa\n",
    "from time import time\n",
    "start_time = time()\n",
    "\n",
    "#verkon koulutus\n",
    "epoch_losses = train_neural_network(neural_network, train_X, train_y)\n",
    "\n",
    "print('Aikaa verkon treenaamisessa meni: {:.2f}'.format(time() - start_time), ' s')"
   ]
  },
  {
   "cell_type": "code",
   "execution_count": 5,
   "id": "393a9cbb",
   "metadata": {},
   "outputs": [
    {
     "data": {
      "image/png": "[encoded data removed]",
      "text/plain": [
       "<Figure size 432x288 with 1 Axes>"
      ]
     },
     "metadata": {
      "needs_background": "light"
     },
     "output_type": "display_data"
    }
   ],
   "source": [
    "#neuroverkon häviöt graafisesti\n",
    "import matplotlib.pyplot as plt\n",
    "\n",
    "fig, ax = plt.subplots()\n",
    "ax.plot(epoch_losses)\n",
    "ax.set_title('neuroverkon häviöt')\n",
    "ax.set_xlabel('epookki')\n",
    "ax.set_ylabel('häviö')\n",
    "plt.show()"
   ]
  },
  {
   "cell_type": "code",
   "execution_count": 6,
   "id": "0a9e1e9f",
   "metadata": {},
   "outputs": [
    {
     "name": "stdout",
     "output_type": "stream",
     "text": [
      "[0.99650362]\n"
     ]
    }
   ],
   "source": [
    "#ennustaja. tulostaa output-neuronin sigmoidin tuloksen\n",
    "test_X_nn = np.array([-5.1, 8.4])\n",
    "layer1_output = neural_network.sigmoid(np.dot(test_X_nn, neural_network.weights1))\n",
    "output = neural_network.sigmoid(np.dot(layer1_output, neural_network.weights2))\n",
    "print(output)"
   ]
  },
  {
   "cell_type": "code",
   "execution_count": null,
   "id": "f22b1039",
   "metadata": {},
   "outputs": [],
   "source": []
  }
 ],
 "metadata": {
  "kernelspec": {
   "display_name": "Python 3 (ipykernel)",
   "language": "python",
   "name": "python3"
  },
  "language_info": {
   "codemirror_mode": {
    "name": "ipython",
    "version": 3
   },
   "file_extension": ".py",
   "mimetype": "text/x-python",
   "name": "python",
   "nbconvert_exporter": "python",
   "pygments_lexer": "ipython3",
   "version": "3.8.12"
  }
 },
 "nbformat": 4,
 "nbformat_minor": 5
}
