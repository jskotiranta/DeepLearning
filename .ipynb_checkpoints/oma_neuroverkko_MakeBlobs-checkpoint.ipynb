{
 "cells": [
  {
   "cell_type": "code",
   "execution_count": 1,
   "metadata": {},
   "outputs": [
    {
     "data": {
      "text/plain": [
       "<matplotlib.collections.PathCollection at 0x292280459d0>"
      ]
     },
     "execution_count": 1,
     "metadata": {},
     "output_type": "execute_result"
    },
    {
     "data": {
      "image/png": "[encoded data removed]",
      "text/plain": [
       "<Figure size 432x288 with 1 Axes>"
      ]
     },
     "metadata": {
      "needs_background": "light"
     },
     "output_type": "display_data"
    }
   ],
   "source": [
    "# tehtävässä käytetään make_blobs()-funktiota\n",
    "import matplotlib.pyplot as plt\n",
    "from sklearn.datasets import make_blobs\n",
    "dots, labels = make_blobs(n_samples=50, centers=2, cluster_std=8, center_box=(-20, 20), random_state=151)\n",
    "colors = ['red' if label == 0 else 'blue' for label in labels]\n",
    "plt.scatter(dots[:,0],dots[:,1],color=colors)"
   ]
  },
  {
   "cell_type": "code",
   "execution_count": 2,
   "metadata": {
    "pycharm": {
     "name": "#%%\n"
    }
   },
   "outputs": [],
   "source": [
    "import numpy as np\n",
    "\n",
    "class NeuralNetwork:\n",
    "    \n",
    "    def __init__(self):\n",
    "        self.weights1 = np.random.rand(2, 6)\n",
    "        self.weights2 = np.random.rand(6, 1)\n",
    "\n",
    "    def __init__(self, input_neurons, hidden_neurons):\n",
    "        self.weights1 = np.random.rand(input_neurons, hidden_neurons)\n",
    "        self.weights2 = np.random.rand(hidden_neurons, 1)\n",
    "\n",
    "    # Virhefunktio\n",
    "    def loss_function(self, true, prediction):\n",
    "        return 0.5 * (true - prediction) ** 2\n",
    "\n",
    "    # Virhefunktion derivaatta\n",
    "    def loss_function_derivative(self, true, prediction):\n",
    "        return true - prediction\n",
    "\n",
    "    # Sigmoid funktio\n",
    "    def sigmoid(self, x):\n",
    "        return 1 / (1 + np.exp(-x))\n",
    "\n",
    "    # Sigmoidin derivaatta\n",
    "    def sigmoid_derivative(self, x):\n",
    "        return x * (1 - x)\n",
    "\n",
    "    # Neuroverkon läpikäynti\n",
    "    def forwardpropagation(self, X, y):\n",
    "        self.X = X\n",
    "        self.y = y\n",
    "        self.layer1 = self.sigmoid(np.dot(self.X, self.weights1))\n",
    "        self.output = self.sigmoid(np.dot(self.layer1, self.weights2))\n",
    "\n",
    "        # lasketaan häviö eli neuroverkon ennustuksen etäisyys oikeasta arvosta\n",
    "        self.loss = self.loss_function(self.y, self.output)\n",
    "\n",
    "    # Painoarvojen päivitys backpropagation - menetelmällä\n",
    "    def backpropagation(self, learning_rate):\n",
    "        output_error = self.loss_function_derivative(self.y, self.output)\n",
    "        output_delta = output_error * self.sigmoid_derivative(self.output)\n",
    "        weights2_adjustment = np.dot(self.layer1.T, output_delta)\n",
    "\n",
    "        layer1_error = np.dot(output_delta, self.weights2.T)\n",
    "        layer1_delta = layer1_error * self.sigmoid_derivative(self.layer1)\n",
    "        weights1_adjustment = np.dot(self.X.T, layer1_delta)\n",
    "\n",
    "        self.weights1 += learning_rate * weights1_adjustment\n",
    "        self.weights2 += learning_rate * weights2_adjustment\n"
   ]
  },
  {
   "cell_type": "code",
   "execution_count": 3,
   "metadata": {
    "pycharm": {
     "name": "#%%\n"
    }
   },
   "outputs": [],
   "source": [
    "# funktio palauttaa taulukon, jossa on [dots, labels, colors]\n",
    "from sklearn.datasets import make_blobs\n",
    "def create_dots_and_labels():\n",
    "    dots, labels = make_blobs(n_samples=100, centers=2, cluster_std=10, center_box=(-20, 20), random_state=151)\n",
    "    colors = ['red' if label == 0 else 'blue' for label in labels]\n",
    "    return [dots, labels, colors]\n",
    "\n",
    "# Kouluttaa neuroverkon ja tallentaa häviön joka epoch-kierroksen jälkeen (valmis toteutus)\n",
    "def train_neural_network(ntwrk, train_X, train_y):\n",
    "    losses_arr = []  # tallentaa kierroksen virheet\n",
    "    epochs = 1000\n",
    "    learning_rate = 1.0 #dynaaminen oppimisnopeus\n",
    "    for epoch in range(epochs):\n",
    "        batch_losses = []\n",
    "        # Käydään jokaisessa kierroksessa jokainen koordinaattipari läpi\n",
    "        for X, y in zip(train_X, train_y):\n",
    "            ntwrk.forwardpropagation(np.array([X]), np.array([y]))\n",
    "            #ntwrk.backpropagation(learning_rate) #dynaaminen oppimisnopeus\n",
    "            ntwrk.backpropagation(learning_rate=0.001)\n",
    "            #learning_rate = learning_rate*(1/(epoch+1)) #dynaaminen oppimisnopeus\n",
    "            batch_losses.append(ntwrk.loss[0])\n",
    "        losses_arr.append(np.average(batch_losses))  # lasketaan keskiarvo yhden kierroksen virhearvoista\n",
    "    return losses_arr\n"
   ]
  },
  {
   "cell_type": "code",
   "execution_count": 4,
   "metadata": {},
   "outputs": [
    {
     "name": "stdout",
     "output_type": "stream",
     "text": [
      "Aikaa treenaamisessa meni: 6.74  s\n"
     ]
    }
   ],
   "source": [
    "data = create_dots_and_labels()\n",
    "train_X = data[0]\n",
    "train_y = data[1]\n",
    "\n",
    "#luodaan ja koulututaan neuroverkko\n",
    "neural_network = NeuralNetwork(2,6)\n",
    "\n",
    "#otetaas ihan aika tästä...\n",
    "from time import time\n",
    "start_time = time()\n",
    "\n",
    "#otetaan joka kierroksen jälkeen neuroverkon häviö talteen\n",
    "epoch_losses = train_neural_network(neural_network, train_X, train_y)\n",
    "\n",
    "print('Aikaa treenaamisessa meni: {:.2f}'.format(time() - start_time), ' s')"
   ]
  },
  {
   "cell_type": "code",
   "execution_count": 5,
   "metadata": {
    "pycharm": {
     "name": "#%%\n"
    }
   },
   "outputs": [
    {
     "data": {
      "image/png": "[encoded data removed]",
      "text/plain": [
       "<Figure size 432x288 with 1 Axes>"
      ]
     },
     "metadata": {
      "needs_background": "light"
     },
     "output_type": "display_data"
    }
   ],
   "source": [
    "#piirretään neuroverkon häviöt\n",
    "import matplotlib.pyplot as plt\n",
    "\n",
    "fig, ax = plt.subplots()\n",
    "ax.plot(epoch_losses)\n",
    "ax.set_title(\"Neural Network Loss\")\n",
    "ax.set_xlabel('Epochs')\n",
    "ax.set_ylabel('Loss')\n",
    "plt.show()"
   ]
  },
  {
   "cell_type": "code",
   "execution_count": 6,
   "metadata": {
    "pycharm": {
     "name": "#%%\n"
    }
   },
   "outputs": [],
   "source": [
    "#ennusteiden laskeminen yo. kahdelle pisteille\n",
    "\n",
    "test_X_nn = np.array([0.5, 8.7])\n",
    "layer1_output = neural_network.sigmoid(np.dot(test_X_nn, neural_network.weights1))\n",
    "output1 = neural_network.sigmoid(np.dot(layer1_output, neural_network.weights2))\n",
    "\n",
    "# annetaan edellisen kerroksen tulokset ja toiset painoarvot edellä käytetylle funktiolle\n",
    "\n",
    "test_X_nn2 = np.array([15, -15])\n",
    "layer1_output = neural_network.sigmoid(np.dot(test_X_nn2, neural_network.weights1))\n",
    "output2 = neural_network.sigmoid(np.dot(layer1_output, neural_network.weights2))\n"
   ]
  },
  {
   "cell_type": "code",
   "execution_count": 7,
   "metadata": {
    "tags": [
     "answers_1_2"
    ]
   },
   "outputs": [
    {
     "name": "stdout",
     "output_type": "stream",
     "text": [
      "[0.92148979]\n",
      "[0.13880693]\n"
     ]
    }
   ],
   "source": [
    "print(output1)\n",
    "print(output2)"
   ]
  },
  {
   "cell_type": "code",
   "execution_count": 8,
   "metadata": {},
   "outputs": [
    {
     "data": {
      "image/png": "[encoded data removed]",
      "text/plain": [
       "<Figure size 432x288 with 1 Axes>"
      ]
     },
     "metadata": {
      "needs_background": "light"
     },
     "output_type": "display_data"
    }
   ],
   "source": [
    "#katsotaan huvin vuoksi miten pisteet oikeastaan istuvat joukkoihin\n",
    "plt.scatter(train_X[:,0],train_X[:,1])\n",
    "plt.scatter(test_X_nn[0], test_X_nn[1], color='purple')\n",
    "plt.scatter(test_X_nn2[0], test_X_nn2[1], color='orange')\n",
    "plt.show()"
   ]
  },
  {
   "cell_type": "markdown",
   "metadata": {},
   "source": [
    "# oma kommentti\n",
    "\n",
    "Funktio `make_blobs()` tekee gaussisesti jakautuneen satunnaisen pisteparven. Parametrilla `n_samples` säädetään pisteiden lukumäärää ja `cluster_std` pisteparven hajanaisuutta. Testaamalla osoittautui, että koulutusaika korreloi erittäin voimakkaasti pisteiden lukumäärän kanssa.\n",
    "\n",
    "Luokituksen tulosta tarkasteltaessa siinä näkyy logaritminen kasvu pisteparven kasvaessa. Luokitus kuitenkin onnistui kaikilla testiajoilla hienosti ja annetut koordinaatit sijoittuivat neuroverkon mielestä selkeästi jompaan kumpaan ryhmään jopa hyvin hajanaisen parven `(300,10)` tapauksessa! Tässä pidettiin vakiona `0.01` oppimisnopeutta.\n",
    "\n",
    "Virhefunktio pieneni lähes kaikissa ajoissa eksponentiaalisesti tai ainakin melkein eksponentiaalisesti, kuten tietysti pitääkin. Välillä neuroverkko ilmeisesti jumittui paikalliseen minimiin.\n",
    "\n",
    "Oppimisnopeuden vaikutusta testattiin pisteparvella `(100,10)`. Neuroverkon suoritusaika oppimisnopeuden funktiona on tässä tapauksessa minimissään jossain `0.003` tienoolla. Ennuste `output1`:stä lähestyy ykköstä lineaarisen näköisesti oppimisnopeuden kasvaessa, mutta hajontaa on jonkin verran.\n",
    "\n",
    "Kokeilin myös säätyvää oppimisnopeutta funktiossa `train_neural_network()`. Oppimisnopeuden alkuarvoksi annetaan 1.0 ja sitä päivitetään kertoimella 1/epookki. Tuloksena virhefunktio näyttää suppenevan erittäin nopeasti ja luokittelu näyttää pysyvän silti erinomaisena... Ainakin tässä ongelmassa."
   ]
  }
 ],
 "metadata": {
  "kernelspec": {
   "display_name": "Python 3 (ipykernel)",
   "language": "python",
   "name": "python3"
  },
  "language_info": {
   "codemirror_mode": {
    "name": "ipython",
    "version": 3
   },
   "file_extension": ".py",
   "mimetype": "text/x-python",
   "name": "python",
   "nbconvert_exporter": "python",
   "pygments_lexer": "ipython3",
   "version": "3.8.12"
  }
 },
 "nbformat": 4,
 "nbformat_minor": 4
}
