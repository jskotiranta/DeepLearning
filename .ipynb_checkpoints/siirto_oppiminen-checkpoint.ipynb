{
 "cells": [
  {
   "cell_type": "code",
   "execution_count": null,
   "id": "83fa378a",
   "metadata": {},
   "outputs": [],
   "source": [
    "# Tehtävän toteutus\n",
    "# Alkuperäisen mallin luonti\n",
    "import tensorflow as tf\n",
    "\n",
    "# Mallin määrittely...\n",
    "input_layer = tf.keras.Input(shape=(28, 28, 1))\n",
    "convolution1 = tf.keras.layers.Conv2D(24, kernel_size=(5, 5), padding='same', strides=1, activation='relu')(input_layer)\n",
    "pooling1 = tf.keras.layers.MaxPooling2D(pool_size=(2,2), strides=(2,2))(convolution1)\n",
    "dropout1 = tf.keras.layers.Dropout(0.2)(pooling1)\n",
    "convolution2 = tf.keras.layers.Conv2D(48, kernel_size=(5, 5), padding='same', strides=1, activation='relu')(dropout1)\n",
    "dropout2 = tf.keras.layers.Dropout(0.4)(convolution2)\n",
    "convolution3 = tf.keras.layers.Conv2D(64, kernel_size=(5, 5), padding='same', strides=1, activation='relu')(dropout2)\n",
    "pooling2 = tf.keras.layers.MaxPooling2D(pool_size=(2,2), strides=(2,2))(convolution3)\n",
    "flattened = tf.keras.layers.Flatten()(pooling2)\n",
    "dense1 = tf.keras.layers.Dense(256, activation='relu')(flattened)\n",
    "output_layer = tf.keras.layers.Dense(10, activation='softmax')(dense1)\n",
    "\n",
    "#...ja tallennus model-muuttujaan\n",
    "model = tf.keras.Model(inputs=input_layer, outputs=output_layer)\n",
    "\n",
    "# Aineiston jako ja skaalaus\n",
    "(train_X, train_y), (test_X, test_y) = tf.keras.datasets.mnist.load_data()\n",
    "train_X = train_X.reshape((train_X.shape[0],28,28,1))\n",
    "\n",
    "# Mallin kääntäminen ja sovittaminen\n",
    "model.compile(optimizer='adam',\n",
    "                  loss='sparse_categorical_crossentropy',\n",
    "                  metrics=['accuracy'])\n",
    "\n",
    "model.fit(train_X, train_y, epochs=2) #maltillinen määrä, sillä ajo kestää noin 4 min per epookki!"
   ]
  },
  {
   "cell_type": "code",
   "execution_count": null,
   "id": "7a1b261b",
   "metadata": {},
   "outputs": [],
   "source": [
    "#sijoitetaan malli model_cnn-muuttujaan\n",
    "model_cnn = model\n",
    "\n",
    "#ladataan malliin model_cnn painoarvot \"weights.h5\"-tiedostosta.\n",
    "model_cnn.load_weights('weights.h5')\n",
    "\n",
    "#tulostetaan yhteenveto mallista sekä arviointimetriikka\n",
    "results = model_cnn.evaluate(test_X, test_y, verbose=1)\n",
    "print(f'Loss: {results[0]} and accuracy: {results[1]}')\n",
    "model_cnn.summary()"
   ]
  },
  {
   "cell_type": "markdown",
   "id": "375b67f5",
   "metadata": {},
   "source": [
    "Tässä siis luodaan MNIST-kuvadataa varten annetun mallin mukainen neuroverkko ja tallennetaan se nimellä `model`. Verkko koulutetaan käyttäjän toimesta datan avulla. Sovitettavia parametreja on jo yli 900 000. Tämän jälkeen verkon arkkitehtuuri siirretään nimelle `model_cnn`, jonka parametrit otetaankin valmiista tiedostosta ja katsotaan kuinka tarkasti verkolle muualta siirretty osaaminen toimii ennustamisessa. Ja toimiihan se, kun päästään yli 99 % tarkkuuteen.\n",
    "\n",
    "Tämä havainnollistaa, kuinka pelkän puhelimen resursseilla ajettavat sovellukset voivat toimia."
   ]
  },
  {
   "cell_type": "code",
   "execution_count": null,
   "id": "fb0b4ab2",
   "metadata": {},
   "outputs": [],
   "source": []
  }
 ],
 "metadata": {
  "kernelspec": {
   "display_name": "Python 3 (ipykernel)",
   "language": "python",
   "name": "python3"
  },
  "language_info": {
   "codemirror_mode": {
    "name": "ipython",
    "version": 3
   },
   "file_extension": ".py",
   "mimetype": "text/x-python",
   "name": "python",
   "nbconvert_exporter": "python",
   "pygments_lexer": "ipython3",
   "version": "3.8.12"
  }
 },
 "nbformat": 4,
 "nbformat_minor": 5
}
