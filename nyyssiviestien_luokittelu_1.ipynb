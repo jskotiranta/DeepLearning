{
 "cells": [
  {
   "cell_type": "code",
   "execution_count": null,
   "id": "2d5f6771",
   "metadata": {},
   "outputs": [],
   "source": [
    "#uutisryhmäviestien luokittelu perseptronilla"
   ]
  },
  {
   "cell_type": "code",
   "execution_count": 1,
   "id": "8fe6e8ab",
   "metadata": {},
   "outputs": [
    {
     "name": "stdout",
     "output_type": "stream",
     "text": [
      "Aikaa tässä meni: 3.70  s\n"
     ]
    }
   ],
   "source": [
    "from sklearn.datasets import fetch_20newsgroups\n",
    "from sklearn.metrics import classification_report, confusion_matrix, ConfusionMatrixDisplay\n",
    "from sklearn.feature_extraction.text import TfidfVectorizer\n",
    "from sklearn.linear_model import Perceptron\n",
    "import matplotlib.pyplot as plt\n",
    "\n",
    "#omaksi huviksi otetaan aikaa\n",
    "from time import time\n",
    "start_time = time()\n",
    "\n",
    "categories = ['rec.sport.hockey', 'rec.sport.baseball', 'rec.autos']\n",
    "\n",
    "# TODO: aseta valittavan testijoukon nimi (subset) ja kategoriat (categories)\n",
    "ng_train = fetch_20newsgroups(subset='train', categories=categories,\n",
    "                              remove=('headers', 'footers', 'quotes'))\n",
    "ng_test = fetch_20newsgroups(subset='test', categories=categories,\n",
    "                             remove=('headers', 'footers', 'quotes'))\n",
    "\n",
    "#tästä on hyötyä tuossa myöhemmin\n",
    "target_names = ng_train.target_names \n",
    "\n",
    "#tekstin TF-IDF -vektorisointi\n",
    "vectorizer = TfidfVectorizer()\n",
    "\n",
    "#muunnetaan opetusaineisto fit_transform()-metodilla\n",
    "#muunnetaan myös testiaineisto transform()-metodilla\n",
    "X_train = vectorizer.fit_transform(ng_train.data)\n",
    "X_test = vectorizer.transform(ng_test.data)\n",
    "y_train, y_test = ng_train.target, ng_test.target\n",
    "\n",
    "print('Aikaa tässä meni: {:.2f}'.format(time() - start_time), ' s')\n"
   ]
  },
  {
   "cell_type": "code",
   "execution_count": 2,
   "id": "c5f5a6ec",
   "metadata": {},
   "outputs": [
    {
     "data": {
      "text/plain": [
       "18242"
      ]
     },
     "execution_count": 2,
     "metadata": {},
     "output_type": "execute_result"
    }
   ],
   "source": [
    "#piirteiden lukumäärä\n",
    "len(vectorizer.get_feature_names_out())"
   ]
  },
  {
   "cell_type": "code",
   "execution_count": 3,
   "id": "b1dcc5c7",
   "metadata": {
    "scrolled": true
   },
   "outputs": [],
   "source": [
    "#varsinainen toteutus\n",
    "pc = Perceptron(random_state=12501)\n",
    "pc.fit(X_train, y_train)\n",
    "\n",
    "y_score = pc.decision_function(X_train)\n",
    "y_pred = pc.predict(X_test)\n",
    "\n",
    "cr = classification_report(y_test, y_pred)\n",
    "cm = confusion_matrix(y_test, y_pred)"
   ]
  },
  {
   "cell_type": "code",
   "execution_count": 4,
   "id": "722b5c3b",
   "metadata": {},
   "outputs": [
    {
     "name": "stdout",
     "output_type": "stream",
     "text": [
      "Predict: [1 2 0 ... 0 2 0] and score: [[-0.65408446  0.43402727 -0.82017215]\n",
      " [ 0.47795284 -0.27204321 -0.31274707]\n",
      " [-0.96090753 -0.15610857  0.18001984]\n",
      " ...\n",
      " [ 0.22634782 -0.97515193 -0.35242064]\n",
      " [-0.27762967 -1.43620959  0.99499127]\n",
      " [-0.69832498  0.52033079 -0.60692759]]\n",
      "Perceptron average test accuracy: 0.8582214765100671\n",
      "[[365  19  12]\n",
      " [ 42 310  45]\n",
      " [ 24  27 348]]\n",
      "              precision    recall  f1-score   support\n",
      "\n",
      "           0       0.85      0.92      0.88       396\n",
      "           1       0.87      0.78      0.82       397\n",
      "           2       0.86      0.87      0.87       399\n",
      "\n",
      "    accuracy                           0.86      1192\n",
      "   macro avg       0.86      0.86      0.86      1192\n",
      "weighted avg       0.86      0.86      0.86      1192\n",
      "\n"
     ]
    }
   ],
   "source": [
    "#tulosten katselu\n",
    "print(f\"Predict: {y_pred} and score: {y_score}\")\n",
    "print(f'Perceptron average test accuracy: {pc.score(X_test, ng_test.target)}')\n",
    "print(cm)  # verrataan toteutuneita arvoja ennusteisin\n",
    "print(cr)"
   ]
  },
  {
   "cell_type": "code",
   "execution_count": 5,
   "id": "14c0b422",
   "metadata": {},
   "outputs": [
    {
     "data": {
      "image/png": "[encoded data removed]",
      "text/plain": [
       "<Figure size 432x288 with 2 Axes>"
      ]
     },
     "metadata": {
      "needs_background": "light"
     },
     "output_type": "display_data"
    }
   ],
   "source": [
    "#sekaannusmatriisi graafisesti\n",
    "import seaborn as sns\n",
    "\n",
    "labels = [target_names[0], target_names[1], target_names[2]]\n",
    "ax = sns.heatmap(cm, annot=True, cmap='Greens', xticklabels=labels, yticklabels=labels)\n"
   ]
  },
  {
   "cell_type": "code",
   "execution_count": null,
   "id": "322303af",
   "metadata": {},
   "outputs": [],
   "source": []
  }
 ],
 "metadata": {
  "kernelspec": {
   "display_name": "Python 3 (ipykernel)",
   "language": "python",
   "name": "python3"
  },
  "language_info": {
   "codemirror_mode": {
    "name": "ipython",
    "version": 3
   },
   "file_extension": ".py",
   "mimetype": "text/x-python",
   "name": "python",
   "nbconvert_exporter": "python",
   "pygments_lexer": "ipython3",
   "version": "3.8.12"
  }
 },
 "nbformat": 4,
 "nbformat_minor": 5
}
